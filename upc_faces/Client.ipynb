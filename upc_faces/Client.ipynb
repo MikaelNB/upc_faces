{
 "cells": [
  {
   "cell_type": "code",
   "execution_count": null,
   "metadata": {},
   "outputs": [],
   "source": [
    "import cv2\n",
    "import numpy as np\n",
    "import socket\n",
    "import sys\n",
    "import pickle\n",
    "import struct\n",
    "\n",
    "cap = cv2.VideoCapture(0)\n",
    "clientsocket = socket.socket(socket.AF_INET, socket.SOCK_STREAM)\n",
    "clientsocket.connect(('127.0.0.1', 8083))\n",
    "\n",
    "while True:\n",
    "    ret,frame = cap.read()\n",
    "    data = pickle.dumps(frame)\n",
    "    clientsocket.sendall(struct.pack(\"L\", len(data)) + data)"
   ]
  }
 ],
 "metadata": {
  "kernelspec": {
   "display_name": "Python 3",
   "language": "python",
   "name": "python3"
  },
  "language_info": {
   "codemirror_mode": {
    "name": "ipython",
    "version": 3
   },
   "file_extension": ".py",
   "mimetype": "text/x-python",
   "name": "python",
   "nbconvert_exporter": "python",
   "pygments_lexer": "ipython3",
   "version": "3.6.6"
  }
 },
 "nbformat": 4,
 "nbformat_minor": 2
}
