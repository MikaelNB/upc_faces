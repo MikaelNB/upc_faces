{
 "cells": [
  {
   "cell_type": "code",
   "execution_count": 1,
   "metadata": {},
   "outputs": [
    {
     "name": "stderr",
     "output_type": "stream",
     "text": [
      "/home/mikaelnb/.local/lib/python3.6/site-packages/torchvision/transforms/transforms.py:188: UserWarning: The use of the transforms.Scale transform is deprecated, please use transforms.Resize instead.\n",
      "  \"please use transforms.Resize instead.\")\n"
     ]
    },
    {
     "data": {
      "text/plain": [
       "['frame_images_DB',\n",
       " 'sources',\n",
       " 'headpose_DB',\n",
       " 'temp_bak',\n",
       " 'meta_data',\n",
       " 'aligned_images_DB',\n",
       " 'images.txt',\n",
       " 'descriptors_DB']"
      ]
     },
     "execution_count": 1,
     "metadata": {},
     "output_type": "execute_result"
    }
   ],
   "source": [
    "import sys\n",
    "import os\n",
    "sys.path.append(\"..\")  # Adds higher directory to python modules path.\n",
    "from img_to_vec import Img2Vec\n",
    "from PIL import Image\n",
    "from sklearn.metrics.pairwise import cosine_similarity\n",
    "from sklearn.decomposition import PCA\n",
    "\n",
    "# input_path = './test_images'\n",
    "input_path = '/home/mikaelnb/Project/notebooks/YouTubeFacesDB/data'\n",
    "\n",
    "img2vec = Img2Vec(model='resnet-152', layer_output_size=128)\n",
    "\n",
    "os.listdir(input_path)"
   ]
  },
  {
   "cell_type": "code",
   "execution_count": 2,
   "metadata": {},
   "outputs": [
    {
     "data": {
      "text/plain": [
       "['Aaron_Eckhart', 'Aaron_Guiel']"
      ]
     },
     "execution_count": 2,
     "metadata": {},
     "output_type": "execute_result"
    }
   ],
   "source": [
    "aligned_folder = '/aligned_images_DB/'\n",
    "new_input_path = input_path + aligned_folder\n",
    "\n",
    "labels = sorted(os.listdir(new_input_path), key=lambda s: s.lower())\n",
    "labels\n",
    "\n"
   ]
  },
  {
   "cell_type": "code",
   "execution_count": 3,
   "metadata": {},
   "outputs": [],
   "source": [
    "# for file in os.listdir(new_input_path + label):\n",
    "#     print(os.fsdecode(file))"
   ]
  },
  {
   "cell_type": "code",
   "execution_count": 43,
   "metadata": {},
   "outputs": [
    {
     "ename": "IndexError",
     "evalue": "list index out of range",
     "output_type": "error",
     "traceback": [
      "\u001b[0;31m---------------------------------------------------------------------------\u001b[0m",
      "\u001b[0;31mIndexError\u001b[0m                                Traceback (most recent call last)",
      "\u001b[0;32m<ipython-input-43-6f189d02164f>\u001b[0m in \u001b[0;36m<module>\u001b[0;34m()\u001b[0m\n\u001b[1;32m      3\u001b[0m \u001b[0;32mfor\u001b[0m \u001b[0mlabel\u001b[0m \u001b[0;32min\u001b[0m \u001b[0mlabels\u001b[0m\u001b[0;34m:\u001b[0m\u001b[0;34m\u001b[0m\u001b[0m\n\u001b[1;32m      4\u001b[0m     \u001b[0mcur_lbl\u001b[0m \u001b[0;34m+=\u001b[0m \u001b[0;36m1\u001b[0m\u001b[0;34m\u001b[0m\u001b[0m\n\u001b[0;32m----> 5\u001b[0;31m     \u001b[0mpics\u001b[0m\u001b[0;34m[\u001b[0m\u001b[0mcur_lbl\u001b[0m\u001b[0;34m]\u001b[0m\u001b[0;34m.\u001b[0m\u001b[0mappend\u001b[0m\u001b[0;34m(\u001b[0m\u001b[0;34m[\u001b[0m\u001b[0;34m]\u001b[0m\u001b[0;34m)\u001b[0m\u001b[0;34m\u001b[0m\u001b[0m\n\u001b[0m\u001b[1;32m      6\u001b[0m     \u001b[0mprint\u001b[0m\u001b[0;34m(\u001b[0m\u001b[0mcur_lbl\u001b[0m\u001b[0;34m)\u001b[0m\u001b[0;34m\u001b[0m\u001b[0m\n\u001b[1;32m      7\u001b[0m     \u001b[0;32mfor\u001b[0m \u001b[0mroot\u001b[0m\u001b[0;34m,\u001b[0m \u001b[0mdirs\u001b[0m\u001b[0;34m,\u001b[0m \u001b[0mfiles\u001b[0m \u001b[0;32min\u001b[0m \u001b[0mos\u001b[0m\u001b[0;34m.\u001b[0m\u001b[0mwalk\u001b[0m\u001b[0;34m(\u001b[0m\u001b[0mnew_input_path\u001b[0m \u001b[0;34m+\u001b[0m \u001b[0mlabel\u001b[0m\u001b[0;34m)\u001b[0m\u001b[0;34m:\u001b[0m\u001b[0;34m\u001b[0m\u001b[0m\n",
      "\u001b[0;31mIndexError\u001b[0m: list index out of range"
     ]
    }
   ],
   "source": [
    "pics = []\n",
    "cur_lbl = -1\n",
    "for label in labels:   \n",
    "    cur_lbl += 1\n",
    "    pics[cur_lbl].append([])\n",
    "    print(cur_lbl)\n",
    "    for root, dirs, files in os.walk(new_input_path + label):\n",
    "        for name in files:\n",
    "            if name.endswith((\".jpg\")):    \n",
    "                img = Image.open(os.path.join(os.fsdecode(root), name))\n",
    "                vec = img2vec.get_vec(img)                \n",
    "                pics[cur_lbl].append(vec)\n",
    "                break\n",
    "    \n",
    "#                 print(vec.shape)\n",
    "\n",
    "\n",
    "                \n",
    "#                 X = vec.T\n",
    "#                 num_components = 128\n",
    "#                 pca = PCA(n_components = num_components, whiten=True).fit(X)\n",
    "\n",
    "#                 X_train = pca.transform(X)"
   ]
  },
  {
   "cell_type": "code",
   "execution_count": null,
   "metadata": {},
   "outputs": [],
   "source": [
    "print(pics.shape)\n",
    "pca = PCA(n_components=128)       \n",
    "pca.fit(pics['Aaron_Eckhart'])\n",
    "pca.shape\n",
    "print(len(pics['Aaron_Eckhart']))\n",
    "print(len(pics['Aaron_Eckhart'][0]))\n",
    "pics['Aaron_Eckhart'] = pca.transform(pics['Aaron_Eckhart'])\n",
    "print(pca.fit(pics['Aaron_Eckhart'][0]).shape)"
   ]
  },
  {
   "cell_type": "code",
   "execution_count": 8,
   "metadata": {},
   "outputs": [
    {
     "name": "stdout",
     "output_type": "stream",
     "text": [
      "190\n",
      "2048\n"
     ]
    }
   ],
   "source": [
    "print(len(pics['Aaron_Eckhart']))\n",
    "print(len(pics['Aaron_Eckhart'][0]))"
   ]
  },
  {
   "cell_type": "code",
   "execution_count": 6,
   "metadata": {},
   "outputs": [],
   "source": [
    "# pics = {}\n",
    "# for file in os.listdir(input_path):\n",
    "#     filename = os.fsdecode(file)\n",
    "#     img = Image.open(os.path.join(input_path, filename))\n",
    "#     vec = img2vec.get_vec(img)\n",
    "#     pics[filename] = vec"
   ]
  },
  {
   "cell_type": "code",
   "execution_count": null,
   "metadata": {},
   "outputs": [],
   "source": []
  },
  {
   "cell_type": "code",
   "execution_count": 7,
   "metadata": {},
   "outputs": [],
   "source": [
    "# # For each test image, we store the filename and vector as key, value in a dictionary\n",
    "\n",
    "# pics = {}\n",
    "# for file in os.listdir(input_path):\n",
    "#     filename = os.fsdecode(file)\n",
    "#     img = Image.open(os.path.join(input_path, filename))\n",
    "#     vec = img2vec.get_vec(img)\n",
    "#     pics[filename] = vec\n",
    "\n",
    "# pic_name = \"\"\n",
    "# while pic_name != \"exit\":\n",
    "#     pic_name = str(input(\"Which filename would you like similarities for?\\n\"))\n",
    "\n",
    "#     try:\n",
    "#         sims = {}\n",
    "#         for key in list(pics.keys()):\n",
    "#             if key == pic_name:\n",
    "#                 continue\n",
    "\n",
    "#             sims[key] = cosine_similarity(pics[pic_name].reshape((1, -1)), pics[key].reshape((1, -1)))[0][0]\n",
    "\n",
    "#         d_view = [(v, k) for k, v in sims.items()]\n",
    "#         d_view.sort(reverse=True)\n",
    "#         for v, k in d_view:\n",
    "#             print(v, k)\n",
    "\n",
    "#     except KeyError as e:\n",
    "#         print('Could not find filename %s' % e)\n",
    "\n",
    "#     except Exception as e:\n",
    "#         print(e)"
   ]
  }
 ],
 "metadata": {
  "kernelspec": {
   "display_name": "Python 3",
   "language": "python",
   "name": "python3"
  },
  "language_info": {
   "codemirror_mode": {
    "name": "ipython",
    "version": 3
   },
   "file_extension": ".py",
   "mimetype": "text/x-python",
   "name": "python",
   "nbconvert_exporter": "python",
   "pygments_lexer": "ipython3",
   "version": "3.6.6"
  }
 },
 "nbformat": 4,
 "nbformat_minor": 2
}
