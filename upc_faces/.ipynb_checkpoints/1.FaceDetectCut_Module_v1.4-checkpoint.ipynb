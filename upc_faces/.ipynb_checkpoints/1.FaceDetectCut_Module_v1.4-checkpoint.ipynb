{
 "cells": [
  {
   "cell_type": "markdown",
   "metadata": {},
   "source": [
    "# imports"
   ]
  },
  {
   "cell_type": "code",
   "execution_count": 2,
   "metadata": {},
   "outputs": [],
   "source": [
    "from __future__ import print_function\n",
    "import numpy as np\n",
    "import os, shutil\n",
    "import sys\n",
    "import cv2\n",
    "import argparse\n",
    "import time"
   ]
  },
  {
   "cell_type": "markdown",
   "metadata": {},
   "source": [
    "# FaceDetector Class"
   ]
  },
  {
   "cell_type": "code",
   "execution_count": 3,
   "metadata": {},
   "outputs": [],
   "source": [
    "class FaceDetector:\n",
    "    def __init__(self, detector = 'haar', standalone = False, output = './UPCfacesB/', samples = 50):\n",
    "        self.detector = detector\n",
    "        self.standalone = standalone\n",
    "        self.video = cv2.VideoCapture('/dev/video0')\n",
    "        \n",
    "        self.samples = samples\n",
    "        self.pause = False\n",
    "        self.wait = 15\n",
    "        self.margin = 55\n",
    "        self.cascPath = ''\n",
    "        if self.detector == 'haar':\n",
    "            self.cascPath=\"haarcascade_frontalface_alt2.xml\"\n",
    "        elif self.detector == 'lbp': \n",
    "            self.cascPath=\"lbpcascade_frontalface_improved.xml\"\n",
    "        else:\n",
    "            exit()\n",
    "        self.faceCascade=cv2.CascadeClassifier(self.cascPath)\n",
    "        self.output = output\n",
    "        self.new_dir = ''\n",
    "        self.end = False\n",
    "        \n",
    "    def CreateDatasetDir(self):        \n",
    "        try:\n",
    "            # Create target Directory\n",
    "            os.mkdir(self.output)\n",
    "            print(\"Directory\" , self.output ,  \"Created \")\n",
    "        except FileExistsError:\n",
    "            print(\"Directory\" , self.output ,  \"already exists\")\n",
    "\n",
    "    def SetupDir(self):\n",
    "\n",
    "        dirs = os.listdir(self.output)\n",
    "        \n",
    "        if len(dirs) > 0 and len(os.listdir(self.output + 'faces_' + str(len(dirs)) + '/') ) < self.samples:\n",
    "            print('Directory is less than {} samples'.format(self.samples))\n",
    "            self.new_dir = self.output + 'faces_' + str(len(dirs)) + '/'\n",
    "            for the_file in os.listdir(self.new_dir):\n",
    "                file_path = os.path.join(self.new_dir, the_file)\n",
    "                try:\n",
    "                    if os.path.isfile(file_path):\n",
    "                        os.unlink(file_path)\n",
    "                    #elif os.path.isdir(file_path): shutil.rmtree(file_path)\n",
    "                except Exception as e:\n",
    "                    print(e)\n",
    "            print('Directory' , self.new_dir, len(os.listdir(self.new_dir)) ,  'gets overwritten')\n",
    "        else:    \n",
    "            print('Directory is not empty')\n",
    "            self.new_dir = self.output + 'faces_' + str(len(dirs)+1) + '/'\n",
    "            try:\n",
    "                os.mkdir(self.new_dir)\n",
    "                print('Directory' , self.new_dir ,  'created')\n",
    "            except FileExistsError as e:\n",
    "                        print(e)\n",
    "        \n",
    "    def Detect(self):        \n",
    "        k = 0\n",
    "        frame_it=-1\n",
    "        face_it=0\n",
    "        ret, frame=self.video.read()\n",
    "        mask = np.zeros(frame.shape[:],dtype=np.uint8)\n",
    "        x0 = 0\n",
    "        y0 = 0\n",
    "        accum = 0\n",
    "        index = []\n",
    "        \n",
    "        while not self.end:\n",
    "            \n",
    "                \n",
    "            ret, frame=self.video.read()\n",
    "            if ret:\n",
    "                frame_it+=1\n",
    "                #gray=cv2.cvtColor(frame, cv2.COLOR_RGB2GRAY)\n",
    "                faces=self.faceCascade.detectMultiScale(frame,scaleFactor=1.01,minNeighbors=3,minSize=(140,140),flags=cv2.CASCADE_SCALE_IMAGE)\n",
    "                if k == 0 and len(faces) > 0:\n",
    "                    self.SetupDir()\n",
    "                mask = np.zeros(frame.shape[:],dtype=np.uint8)\n",
    "                for (x,y,w,h) in faces:\n",
    "                    if (x0 == 0 and y0 == 0) or abs(x-x0)+abs(y-y0) < self.margin:\n",
    "                        face_it+=1\n",
    "                        mask=cv2.ellipse(mask,(x+w//2,y+int(h/2)),(int(w/3),int(h/2)),0,0,360,(255,255,255),-1)\n",
    "                        mask=np.bitwise_and(frame,mask)\n",
    "                        crop=mask[y:y+h,x:x+w]\n",
    "                        cv2.imwrite(self.new_dir + 'fr{}_f{}.jpg'.format(frame_it,face_it),crop)\n",
    "                        k += 1\n",
    "#                         x0 = x\n",
    "#                         y0 = y\n",
    "#                         accum = 0\n",
    "#                     elif abs(x-x0)+abs(y-y0) >= self.margin:\n",
    "#                         accum += 1\n",
    "\n",
    "                for (x,y,w,h) in faces:\n",
    "                    if (x0 == 0 and y0 == 0) or abs(x-x0)+abs(y-y0) < self.margin:\n",
    "                        cv2.rectangle(frame,(x,y),(x+w,y+h),(0,255,0),2)\n",
    "                        x0 = x\n",
    "                        y0 = y\n",
    "                        accum = 0\n",
    "                    elif abs(x-x0)+abs(y-y0) >= self.margin:\n",
    "                        accum += 1\n",
    "\n",
    "                if accum > self.wait:\n",
    "                    accum = 0\n",
    "                    x0 = y0 = 0\n",
    "\n",
    "                cv2.imshow('Video',frame)\n",
    "                #if len(faces) > 0:\n",
    "                    #print('Num Faces: {0}, ({1}, {2})'.format(len(faces), int(x0), int(y0)),end='\\r')\n",
    "                c = cv2.waitKey(1)\n",
    "                if c & 0xFF == ord('q'):\n",
    "                    self.end = True                    \n",
    "                    break\n",
    "                \n",
    "                if c & 0xFF == ord('p'):\n",
    "                    self.pause = True\n",
    "                    print('Detection Paused')\n",
    "                \n",
    "                if (k >= self.samples):\n",
    "                    print('Capture Success')\n",
    "                    self.pause = True\n",
    "                    \n",
    "                if self.pause:\n",
    "                    k = 0\n",
    "                    face_it = 0\n",
    "                    frame_it = -1\n",
    "                    self.IdleVideo()\n",
    "                    #self.Detect()\n",
    "        self.video.release()\n",
    "        cv2.destroyAllWindows()\n",
    "        \n",
    "\n",
    "        \n",
    "    def IdleVideo(self):\n",
    "\n",
    "        while self.pause:\n",
    "            ret, frame = self.video.read()\n",
    "            if ret:\n",
    "                cv2.imshow('Video',frame)\n",
    "                c = cv2.waitKey(1)\n",
    "                if c & 0xFF == ord('q'):\n",
    "                    self.end = True\n",
    "                    break\n",
    "                if c & 0xFF==ord('u'):\n",
    "                    self.pause = False\n",
    "                    print('Detection Resumed')\n",
    "#                     elif 0xFF==ord('q'): \n",
    "#                         self.video.release()\n",
    "#                         cv2.destroyAllWindows()\n",
    "#                         break\n",
    "        \n",
    "                    \n",
    "            \n",
    "        \n",
    "            \n",
    "# def main():\n",
    "#   parser = argparse.ArgumentParser()\n",
    "#   parser.add_argument('foo')\n",
    "#   parser.add_argument('bar')\n",
    "#   args = parser.parse_args()\n",
    "#   c1 = MyClass(args.foo, args.bar)\n",
    "#   args_dict = vars(args)\n",
    "#   c2 = MyClass(**args_dict)"
   ]
  },
  {
   "cell_type": "code",
   "execution_count": 4,
   "metadata": {},
   "outputs": [
    {
     "name": "stdout",
     "output_type": "stream",
     "text": [
      "Directory ./UPCfacesB/ already exists\n",
      "Directory is not empty\n",
      "Directory ./UPCfacesB/faces_1/ created\n",
      "Capture Success\n"
     ]
    }
   ],
   "source": [
    "def main():\n",
    "    fd = FaceDetector(samples=50)\n",
    "    fd.CreateDatasetDir()\n",
    "    fd.Detect()\n",
    "    \n",
    "main()"
   ]
  },
  {
   "cell_type": "markdown",
   "metadata": {},
   "source": [
    "# Ejecutable y Args"
   ]
  },
  {
   "cell_type": "code",
   "execution_count": 3,
   "metadata": {
    "scrolled": true
   },
   "outputs": [],
   "source": [
    "# ap = argparse.ArgumentParser()\n",
    "# ap.add_argument('-d','--detector', default='haar', help='detector type [haar, lbp]')\n",
    "# ap.add_argument('-s','--standalone', default=False, help='True for crontab execution')\n",
    "# ap.add_argument('-o','--output', default='./UPCfacesB/', help='output path for dataset, default: ./UPCfacesB/')\n",
    "# args = ap.parse_args()"
   ]
  },
  {
   "cell_type": "code",
   "execution_count": 1,
   "metadata": {},
   "outputs": [],
   "source": [
    "# from __future__ import print_function\n",
    "# from ipywidgets import interact, interactive, fixed, interact_manual\n",
    "# from IPython.display import display\n",
    "\n",
    "# import numpy as np\n",
    "# import ipywidgets as widgets\n",
    "# import os, shutil\n",
    "# import cv2\n",
    "# import sys\n",
    "# import dlib\n",
    "# import argparse\n",
    "# import time"
   ]
  },
  {
   "cell_type": "code",
   "execution_count": 3,
   "metadata": {},
   "outputs": [],
   "source": [
    "video = cv2.VideoCapture('/dev/video0')\n",
    "\n",
    "while True:\n",
    "    ret, frame = video.read()\n",
    "    if ret:\n",
    "        cv2.imshow('Video',frame)\n",
    "        if(cv2.waitKey(1) & 0xFF==ord('q')):\n",
    "            break\n",
    "    else:\n",
    "        break\n",
    "\n",
    "video.release()\n",
    "cv2.destroyAllWindows()"
   ]
  },
  {
   "cell_type": "code",
   "execution_count": 28,
   "metadata": {
    "scrolled": true
   },
   "outputs": [
    {
     "name": "stdout",
     "output_type": "stream",
     "text": [
      "Directory UPCfaces already exists\n",
      "Cantidad de Fotogramas:\n"
     ]
    },
    {
     "data": {
      "application/vnd.jupyter.widget-view+json": {
       "model_id": "5c46bbb3bd7247a7a3a676acf9e8fe16",
       "version_major": 2,
       "version_minor": 0
      },
      "text/plain": [
       "interactive(children=(IntSlider(value=100, description='x', min=10, step=10), Output()), _dom_classes=('widget…"
      ]
     },
     "metadata": {},
     "output_type": "display_data"
    }
   ],
   "source": [
    "\n",
    "\n",
    "c = 0\n",
    "def f(x):\n",
    "    return x\n",
    "\n",
    "w = interactive(f, x=widgets.IntSlider(min=10,max=100,step=10,value=100))\n",
    "print('Cantidad de Fotogramas:')\n",
    "display(w)"
   ]
  },
  {
   "cell_type": "code",
   "execution_count": 7,
   "metadata": {
    "scrolled": true
   },
   "outputs": [
    {
     "name": "stdout",
     "output_type": "stream",
     "text": [
      "\n",
      "Lista de carpetas:\n",
      "\t ['faces_3', 'faces_2', 'faces_6', 'faces_5', 'faces_7', 'faces_1', 'faces_4']\n",
      "\n",
      "Identificador de Carpeta:\n"
     ]
    },
    {
     "data": {
      "application/vnd.jupyter.widget-view+json": {
       "model_id": "96149f52a7a6457795c1c11af382cafb",
       "version_major": 2,
       "version_minor": 0
      },
      "text/plain": [
       "Checkbox(value=False, description='Sobreescribir')"
      ]
     },
     "metadata": {},
     "output_type": "display_data"
    },
    {
     "data": {
      "application/vnd.jupyter.widget-view+json": {
       "model_id": "84502e18d45c4c1fa069c85107dc3d2f",
       "version_major": 2,
       "version_minor": 0
      },
      "text/plain": [
       "interactive(children=(IntSlider(value=1, description='x', max=7, min=1), Output()), _dom_classes=('widget-inte…"
      ]
     },
     "metadata": {},
     "output_type": "display_data"
    }
   ],
   "source": [
    "dirs = os.listdir(input_path)\n",
    "ow = widgets.Checkbox(\n",
    "        value=False,\n",
    "        description='Sobreescribir',\n",
    "        disabled=False\n",
    "    )\n",
    "\n",
    "if len(dirs)>0:\n",
    "    print('\\nLista de carpetas:')\n",
    "    print('\\t',dirs)\n",
    "    d = interactive(f, x=widgets.IntSlider(min=1,max=len(dirs),step=1,value=1))\n",
    "\n",
    "\n",
    "    print('\\nIdentificador de Carpeta:')\n",
    "    display(ow)    \n",
    "    display(d)"
   ]
  },
  {
   "cell_type": "code",
   "execution_count": 31,
   "metadata": {
    "scrolled": true
   },
   "outputs": [
    {
     "name": "stdout",
     "output_type": "stream",
     "text": [
      "./UPCfaces/faces_7/\n",
      "Cantidad de Fotogramas: 10\n",
      "Sobreescribir: True\n",
      "Execution Time (in seconds) :\n",
      "haar : 1.22\n"
     ]
    }
   ],
   "source": [
    "if ow.value:\n",
    "    new_dir = input_path + 'faces_' + str(d.result) + '/'\n",
    "    for the_file in os.listdir(new_dir):\n",
    "        file_path = os.path.join(new_dir, the_file)\n",
    "        try:\n",
    "            if os.path.isfile(file_path):\n",
    "                os.unlink(file_path)\n",
    "            #elif os.path.isdir(file_path): shutil.rmtree(file_path)\n",
    "        except Exception as e:\n",
    "            print(e)\n",
    "else:\n",
    "    dirs = os.listdir(input_path)\n",
    "    new_dir = input_path + 'faces_' + str(len(dirs)+1) + '/'\n",
    "    try:\n",
    "        # Create target Directory\n",
    "        os.mkdir(new_dir)\n",
    "        print(\"Directory\" , new_dir ,  \"Created \")\n",
    "    except FileExistsError:\n",
    "        print(\"Directory\" , new_dir ,  \"already exists\")\n",
    "\n",
    "c = w.result\n",
    "\n",
    "\n",
    "print(new_dir)\n",
    "print('Cantidad de Fotogramas:', c)\n",
    "print('Sobreescribir:',ow.value)\n",
    "op = 0\n",
    "start = time.time()\n",
    "\n",
    "if op == 0:\n",
    "    name = 'haar'\n",
    "    FaceDetectCascade(name)\n",
    "    end = time.time()\n",
    "    print(\"Execution Time (in seconds) :\")\n",
    "    print(name,\":\", format(end - start, '.2f'))\n",
    "elif op == 1:\n",
    "    FaceDetectHog()\n",
    "    end = time.time()\n",
    "    print(\"Execution Time (in seconds) :\")\n",
    "    print(\"HOG : \", format(end - start, '.2f'))\n",
    "elif op == 2:\n",
    "    FaceDetectCnn()\n",
    "    end = time.time()\n",
    "    print(\"Execution Time (in seconds) :\")\n",
    "    print(\"HOG : \", format(end - start, '.2f'))\n"
   ]
  },
  {
   "cell_type": "code",
   "execution_count": null,
   "metadata": {},
   "outputs": [],
   "source": []
  },
  {
   "cell_type": "code",
   "execution_count": null,
   "metadata": {},
   "outputs": [],
   "source": []
  }
 ],
 "metadata": {
  "kernelspec": {
   "display_name": "Python 3",
   "language": "python",
   "name": "python3"
  },
  "language_info": {
   "codemirror_mode": {
    "name": "ipython",
    "version": 3
   },
   "file_extension": ".py",
   "mimetype": "text/x-python",
   "name": "python",
   "nbconvert_exporter": "python",
   "pygments_lexer": "ipython3",
   "version": "3.6.6"
  }
 },
 "nbformat": 4,
 "nbformat_minor": 2
}
