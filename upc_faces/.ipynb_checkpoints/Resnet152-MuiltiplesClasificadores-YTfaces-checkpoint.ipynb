{
 "cells": [
  {
   "cell_type": "code",
   "execution_count": 2,
   "metadata": {},
   "outputs": [
    {
     "name": "stderr",
     "output_type": "stream",
     "text": [
      "/usr/lib/python3/dist-packages/h5py/__init__.py:36: FutureWarning: Conversion of the second argument of issubdtype from `float` to `np.floating` is deprecated. In future, it will be treated as `np.float64 == np.dtype(float).type`.\n",
      "  from ._conv import register_converters as _register_converters\n",
      "/home/mikaelnb/.local/lib/python3.6/site-packages/sklearn/cross_validation.py:41: DeprecationWarning: This module was deprecated in version 0.18 in favor of the model_selection module into which all the refactored classes and functions are moved. Also note that the interface of the new CV iterators are different from that of this module. This module will be removed in 0.20.\n",
      "  \"This module will be removed in 0.20.\", DeprecationWarning)\n",
      "/home/mikaelnb/.local/lib/python3.6/site-packages/sklearn/ensemble/weight_boosting.py:29: DeprecationWarning: numpy.core.umath_tests is an internal NumPy module and should not be imported. It will be removed in a future NumPy release.\n",
      "  from numpy.core.umath_tests import inner1d\n"
     ]
    }
   ],
   "source": [
    "import sys\n",
    "import os\n",
    "import time\n",
    "import h5py\n",
    "import numpy as np\n",
    "sys.path.append(\"..\")  # Adds higher directory to python modules path.\n",
    "from img_to_vec import Img2Vec\n",
    "from PIL import Image\n",
    "from sklearn.metrics.pairwise import cosine_similarity\n",
    "from sklearn.decomposition import PCA\n",
    "from sklearn.model_selection import train_test_split\n",
    "from sklearn import metrics\n",
    "from sklearn.neighbors import KNeighborsClassifier\n",
    "from sklearn.cross_validation import cross_val_score\n",
    "from sklearn.neighbors import KNeighborsClassifier\n",
    "from sklearn.tree import DecisionTreeClassifier\n",
    "from sklearn.ensemble import RandomForestClassifier\n",
    "from sklearn.neural_network import MLPClassifier\n",
    "from sklearn.ensemble import AdaBoostClassifier\n",
    "from sklearn.naive_bayes import GaussianNB\n",
    "from sklearn.discriminant_analysis import QuadraticDiscriminantAnalysis\n",
    "from sklearn.svm import SVC\n",
    "\n",
    "\n",
    "#import torchvision.models as models\n",
    "# model = models.resnet152(pretrained=True)\n",
    "# modules=list(model.modules())[:-1]\n",
    "# print(*modules)"
   ]
  },
  {
   "cell_type": "code",
   "execution_count": 2,
   "metadata": {},
   "outputs": [
    {
     "name": "stderr",
     "output_type": "stream",
     "text": [
      "/home/mikaelnb/.local/lib/python3.6/site-packages/torchvision/transforms/transforms.py:188: UserWarning: The use of the transforms.Scale transform is deprecated, please use transforms.Resize instead.\n",
      "  \"please use transforms.Resize instead.\")\n"
     ]
    },
    {
     "data": {
      "text/plain": [
       "['faces 01', 'faces 02']"
      ]
     },
     "execution_count": 2,
     "metadata": {},
     "output_type": "execute_result"
    }
   ],
   "source": [
    "\n",
    "# input_path = './test_images'\n",
    "#input_path = '/home/mikaelnb/Project/notebooks/YouTubeFacesDB/data'\n",
    "input_path = './faces/'\n",
    "\n",
    "img2vec = Img2Vec(model='resnet-152')\n",
    "\n",
    "os.listdir(input_path)"
   ]
  },
  {
   "cell_type": "code",
   "execution_count": 3,
   "metadata": {},
   "outputs": [
    {
     "name": "stdout",
     "output_type": "stream",
     "text": [
      "['faces 01', 'faces 02'] {0: 'faces 01', 1: 'faces 02'}\n"
     ]
    }
   ],
   "source": [
    "#aligned_folder = '/aligned_images_DB/'\n",
    "new_input_path = input_path# + aligned_folder\n",
    "labels = sorted(os.listdir(new_input_path), key=lambda s: s.lower())#[:4]\n",
    "label_id = {}\n",
    "for i, label in enumerate(labels):\n",
    "    label_id[i] = label\n",
    "print(labels, label_id)"
   ]
  },
  {
   "cell_type": "code",
   "execution_count": 4,
   "metadata": {},
   "outputs": [],
   "source": [
    "# for file in os.listdir(new_input_path + label):\n",
    "#     print(os.fsdecode(file))"
   ]
  },
  {
   "cell_type": "code",
   "execution_count": 5,
   "metadata": {},
   "outputs": [
    {
     "name": "stdout",
     "output_type": "stream",
     "text": [
      "faces 01\n",
      "faces 02\n"
     ]
    }
   ],
   "source": [
    "for asdfdas in label_id:\n",
    "    print(label_id[asdfdas])"
   ]
  },
  {
   "cell_type": "code",
   "execution_count": 6,
   "metadata": {},
   "outputs": [
    {
     "name": "stdout",
     "output_type": "stream",
     "text": [
      "2\n",
      "[None, None]\n",
      "[[], []]\n"
     ]
    }
   ],
   "source": [
    "print(len(label_id))\n",
    "#pics = np.empty((len(label_id),0))\n",
    "pics = [None]*len(label_id)\n",
    "print(pics)\n",
    "\n",
    "for index in label_id:\n",
    "    pics[int(index)] = []\n",
    "    \n",
    "print(pics)\n"
   ]
  },
  {
   "cell_type": "code",
   "execution_count": 7,
   "metadata": {
    "scrolled": true
   },
   "outputs": [
    {
     "name": "stdout",
     "output_type": "stream",
     "text": [
      "(2048,)\n",
      "(2048,)\n",
      "(2048,)\n",
      "(2048,)\n",
      "index:  0\n",
      "(2048,)\n"
     ]
    },
    {
     "name": "stderr",
     "output_type": "stream",
     "text": [
      "/home/mikaelnb/.local/lib/python3.6/site-packages/ipykernel_launcher.py:20: DeprecationWarning: elementwise == comparison failed; this will raise an error in the future.\n"
     ]
    },
    {
     "name": "stdout",
     "output_type": "stream",
     "text": [
      "(2048,)\n",
      "(2048,)\n",
      "(2048,)\n",
      "(2048,)\n",
      "(2048,)\n",
      "0 10\n",
      "(2048,)\n",
      "(2048,)\n",
      "(2048,)\n",
      "(2048,)\n",
      "(2048,)\n",
      "(2048,)\n",
      "(2048,)\n",
      "(2048,)\n",
      "(2048,)\n",
      "(2048,)\n",
      "1 10\n",
      "\n",
      "[[0.4897556  0.6178684  0.4587147  ... 0.08357252 0.13227662 0.03964458]\n",
      " [0.33301446 0.49266303 0.24831617 ... 0.10234171 0.18132412 0.02051125]\n",
      " [0.35004497 0.707076   0.27862468 ... 0.09606014 0.09778297 0.01891252]\n",
      " ...\n",
      " [0.47479576 0.5782025  0.54619145 ... 0.13876729 0.22717585 0.00984774]\n",
      " [0.4997499  0.9164242  0.4417323  ... 0.0638539  0.0579023  0.02341869]\n",
      " [0.35324442 0.5659664  0.2513491  ... 0.08429771 0.15137118 0.02788711]]\n",
      "[[0.1085029  1.0993     0.290269   ... 0.05480364 0.1790252  0.06140967]\n",
      " [0.11338018 0.95706195 0.21444765 ... 0.0196206  0.29912144 0.13165691]\n",
      " [0.11225048 0.7576683  0.30352062 ... 0.05828168 0.19530435 0.12944102]\n",
      " ...\n",
      " [0.07595018 1.0403035  0.34579986 ... 0.02175253 0.22408156 0.03875753]\n",
      " [0.20244129 0.5183704  0.3466887  ... 0.05058858 0.42556787 0.12679759]\n",
      " [0.17093839 0.75933504 0.21706761 ... 0.07539953 0.39786428 0.13987854]]\n"
     ]
    }
   ],
   "source": [
    "vec = []\n",
    "labels = []\n",
    "imagesPerLabel = 10\n",
    "\n",
    "testVec = []\n",
    "k = 0\n",
    "\n",
    "for index in label_id:    \n",
    "    for root, dirs, files in os.walk(new_input_path + label_id[index]):\n",
    "        #print(root, dirs, files)\n",
    "        for name in files:\n",
    "            if len(pics[index]) > imagesPerLabel -1:\n",
    "                print(index, len(pics[index]))\n",
    "                break\n",
    "            #print(name)\n",
    "            if name.endswith((\".jpg\")):                \n",
    "                img = Image.open(os.path.join(os.fsdecode(root), name))\n",
    "                #print(os.path.join(os.fsdecode(root), name))\n",
    "                vec = img2vec.get_vec(img)\n",
    "                if  testVec == [] and index == 0:\n",
    "                    k += 1\n",
    "                    if k == 5:\n",
    "                        print('index: ', index)\n",
    "                        testVec = vec\n",
    "                print(vec.shape)                \n",
    "                pics[index].append(vec)     \n",
    "                #print(name)\n",
    "                labels.append(int(index))\n",
    "    pics[index] = np.array(pics[index])    \n",
    "    \n",
    "labels = np.array(labels)\n",
    "\n",
    "print()\n",
    "print(pics[0][0:])\n",
    "print(pics[1][0:])\n",
    "\n",
    "#                 X = vec.T\n",
    "#                 num_components = 128\n",
    "#                 pca = PCA(n_components = num_components, whiten=True).fit(X)\n",
    "\n",
    "#                 X_train = pca.transform(X)"
   ]
  },
  {
   "cell_type": "code",
   "execution_count": 8,
   "metadata": {},
   "outputs": [
    {
     "name": "stdout",
     "output_type": "stream",
     "text": [
      "(20, 2048)\n",
      "[0 0 0 0 0 0 0 0 0 0 1 1 1 1 1 1 1 1 1 1]\n"
     ]
    }
   ],
   "source": [
    "pics=np.array(pics)\n",
    "pics = pics.reshape(len(pics)*len(pics[0]),2048)\n",
    "print(pics.shape)\n",
    "\n",
    "print(labels)"
   ]
  },
  {
   "cell_type": "code",
   "execution_count": 9,
   "metadata": {},
   "outputs": [],
   "source": [
    "# import random\n",
    "# n=25\n",
    "# randList=[]\n",
    "\n",
    "# for i in range(0,len(pics)):\n",
    "#     randList.append(random.sample(range(imagesPerLabel), n))\n",
    "# randList"
   ]
  },
  {
   "cell_type": "code",
   "execution_count": 10,
   "metadata": {},
   "outputs": [],
   "source": [
    "# newPics = [None]*len(label_id)\n",
    "# for index in label_id:\n",
    "#     newPics[int(index)] = []\n",
    "    \n",
    "# for index in range(0,len(pics)):\n",
    "#     for i in range(0, n):\n",
    "#         newPics[index].append(pics[index][randList[index][i]])\n",
    "#     newPics[index] = np.array(newPics[index])\n",
    "# newPics = np.array(newPics)"
   ]
  },
  {
   "cell_type": "code",
   "execution_count": 23,
   "metadata": {},
   "outputs": [],
   "source": [
    "\n",
    "\n",
    "\n",
    "X = pics\n",
    "y = labels"
   ]
  },
  {
   "cell_type": "code",
   "execution_count": null,
   "metadata": {},
   "outputs": [],
   "source": [
    "\n",
    "#from sklearn.preprocessing import LabelEncoder\n",
    "\n",
    "with h5py.File(\"data.hdf5\", \"w\") as f:\n",
    "    dset = f.create_dataset(\"dataset_1\", data=np.array(X))\n",
    "\n",
    "#le = LabelEncoder()\n",
    "#target = le.fit_transform(labels)\n",
    "with h5py.File(\"labels.hdf5\", \"w\") as f:\n",
    "    dset = f.create_dataset(\"dataset_1\", data=np.array(y))\n",
    "print(X.shape, y.shape)"
   ]
  },
  {
   "cell_type": "code",
   "execution_count": 3,
   "metadata": {},
   "outputs": [
    {
     "name": "stdout",
     "output_type": "stream",
     "text": [
      "(15950, 2048) (15950,)\n"
     ]
    }
   ],
   "source": [
    "f1 = h5py.File('data.hdf5', 'r')\n",
    "X = f1.get('dataset_1').value # `data` is now an ndarray.\n",
    "f1.close()\n",
    "#X = np.array(X)\n",
    "\n",
    "f2 = h5py.File('labels.hdf5', 'r')\n",
    "y = f2.get('dataset_1').value # `data` is now an ndarray.\n",
    "f2.close()\n",
    "#y = np.array(y)\n",
    "print(X.shape, y.shape)"
   ]
  },
  {
   "cell_type": "code",
   "execution_count": 4,
   "metadata": {},
   "outputs": [
    {
     "name": "stdout",
     "output_type": "stream",
     "text": [
      "(10686, 2048) (10686,) (5264, 2048) (5264,)\n"
     ]
    }
   ],
   "source": [
    "X_train, X_test, y_train, y_test = train_test_split(X,y,test_size=0.33, random_state = 6)\n",
    "print(X_train.shape, y_train.shape, X_test.shape, y_test.shape)\n",
    "#print(X.shape, y.shape)"
   ]
  },
  {
   "cell_type": "code",
   "execution_count": 5,
   "metadata": {},
   "outputs": [
    {
     "data": {
      "text/plain": [
       "0.9019756838905775"
      ]
     },
     "execution_count": 5,
     "metadata": {},
     "output_type": "execute_result"
    }
   ],
   "source": [
    "knn = KNeighborsClassifier(n_neighbors=5)\n",
    "knn.fit(X_train, y_train)\n",
    "y_pred = knn.predict(X_test)\n",
    "metrics.accuracy_score(y_test, y_pred)"
   ]
  },
  {
   "cell_type": "code",
   "execution_count": null,
   "metadata": {},
   "outputs": [],
   "source": [
    "scores = cross_val_score(knn, X, y, cv=10, scoring='accuracy')\n",
    "print(scores)\n",
    "print(scores.mean())"
   ]
  },
  {
   "cell_type": "code",
   "execution_count": null,
   "metadata": {},
   "outputs": [],
   "source": [
    "# search for an optimal value of K for KNN\n",
    "\n",
    "# range of k we want to try\n",
    "k_range = range(1, 19)\n",
    "# empty list to store scores\n",
    "k_scores = []\n",
    "\n",
    "# 1. we will loop through reasonable values of k\n",
    "for k in k_range:\n",
    "    # 2. run KNeighborsClassifier with k neighbours\n",
    "    knn = KNeighborsClassifier(n_neighbors=k)\n",
    "    # 3. obtain cross_val_score for KNeighborsClassifier with k neighbours\n",
    "    scores = cross_val_score(knn, X, y, cv=10, scoring='accuracy')\n",
    "    # 4. append mean of scores for k neighbors to k_scores list\n",
    "    k_scores.append(scores.mean())\n",
    "\n",
    "\n",
    "print(k_scores)"
   ]
  },
  {
   "cell_type": "code",
   "execution_count": null,
   "metadata": {},
   "outputs": [],
   "source": [
    "neigh = KNeighborsClassifier(n_neighbors=3)\n",
    "neigh.fit(X, y)\n",
    "\n",
    "#testVec = [x/n for x in [sum(x) for x in newPics]]\n",
    "print(neigh.predict([testVec]))\n",
    "#print(neigh.predict_proba([testVec]))"
   ]
  },
  {
   "cell_type": "code",
   "execution_count": 4,
   "metadata": {
    "scrolled": true
   },
   "outputs": [
    {
     "name": "stdout",
     "output_type": "stream",
     "text": [
      "[0.98934169 0.9862069  0.98683386 0.98934169 0.98557994 0.98369906\n",
      " 0.99247649 0.9862069  0.98746082 0.98934169]\n",
      "0.9876489028213167\n",
      "651546.3066101074 ms\n"
     ]
    }
   ],
   "source": [
    "start_time = time.time()\n",
    "clf = KNeighborsClassifier(n_neighbors=1, p=1)\n",
    "clf.fit(X_train,y_train)\n",
    "\n",
    "scores = cross_val_score(clf, X, y, cv=10, scoring='accuracy')\n",
    "print(scores)\n",
    "print(scores.mean())\n",
    "\n",
    "print(\"%s ms\" % ((time.time() - start_time)*1000))"
   ]
  },
  {
   "cell_type": "code",
   "execution_count": null,
   "metadata": {},
   "outputs": [],
   "source": [
    "start_time = time.time()\n",
    "clf = DecisionTreeClassifier(max_depth=250, min_samples_split=2)\n",
    "clf.fit(X_train,y_train)\n",
    "\n",
    "scores = cross_val_score(clf, X, y, cv=10, scoring='accuracy')\n",
    "print(scores)\n",
    "print(scores.mean())\n",
    "\n",
    "print(\"%s ms\" % ((time.time() - start_time)*1000))"
   ]
  },
  {
   "cell_type": "code",
   "execution_count": null,
   "metadata": {},
   "outputs": [],
   "source": [
    "start_time = time.time()\n",
    "clf = RandomForestClassifier(max_depth=250, n_estimators=200, max_features=5)\n",
    "clf.fit(X_train,y_train)\n",
    "\n",
    "scores = cross_val_score(clf, X, y, cv=10, scoring='accuracy')\n",
    "print(scores)\n",
    "print(scores.mean())\n",
    "\n",
    "print(\"%s ms\" % ((time.time() - start_time)*1000))"
   ]
  },
  {
   "cell_type": "code",
   "execution_count": null,
   "metadata": {},
   "outputs": [],
   "source": [
    "start_time = time.time()\n",
    "clf = MLPClassifier(alpha=3.1)\n",
    "clf.fit(X_train,y_train)\n",
    "\n",
    "scores = cross_val_score(clf, X, y, cv=10, scoring='accuracy')\n",
    "print(scores)\n",
    "print(scores.mean())\n",
    "\n",
    "print(\"%s ms\" % ((time.time() - start_time)*1000))\n"
   ]
  },
  {
   "cell_type": "markdown",
   "metadata": {},
   "source": [
    "# AdaboostClassifier"
   ]
  },
  {
   "cell_type": "code",
   "execution_count": null,
   "metadata": {},
   "outputs": [],
   "source": [
    "start_time = time.time()\n",
    "clf = AdaBoostClassifier(n_estimators=100, learning_rate = 0.5)\n",
    "clf.fit(X_train,y_train)\n",
    "\n",
    "scores = cross_val_score(clf, X, y, cv=10, scoring='accuracy')\n",
    "print(scores)\n",
    "print(scores.mean())\n",
    "\n",
    "print(\"%s ms\" % ((time.time() - start_time)*1000))"
   ]
  },
  {
   "cell_type": "markdown",
   "metadata": {},
   "source": [
    "# Bayes"
   ]
  },
  {
   "cell_type": "code",
   "execution_count": 4,
   "metadata": {},
   "outputs": [
    {
     "name": "stdout",
     "output_type": "stream",
     "text": [
      "[0.91410658 0.9184953  0.9153605  0.90721003 0.8984326  0.91473354\n",
      " 0.91724138 0.90094044 0.90721003 0.90721003]\n",
      "0.9100940438871472\n",
      "580968.255519867 ms\n"
     ]
    }
   ],
   "source": [
    "start_time = time.time()\n",
    "clf = GaussianNB()\n",
    "clf.fit(X_train,y_train)\n",
    "\n",
    "scores = cross_val_score(clf, X, y, cv=10, scoring='accuracy')\n",
    "print(scores)\n",
    "print(scores.mean())\n",
    "\n",
    "print(\"%s ms\" % ((time.time() - start_time)*1000))"
   ]
  },
  {
   "cell_type": "code",
   "execution_count": null,
   "metadata": {},
   "outputs": [],
   "source": [
    "start_time = time.time()\n",
    "clf = QuadraticDiscriminantAnalysis()\n",
    "clf.fit(X_train,y_train)\n",
    "\n",
    "scores = cross_val_score(clf, X, y, cv=10, scoring='accuracy')\n",
    "print(scores)\n",
    "print(scores.mean())\n",
    "\n",
    "\n",
    "print(\"%s ms\" % ((time.time() - start_time)*1000))"
   ]
  },
  {
   "cell_type": "code",
   "execution_count": null,
   "metadata": {},
   "outputs": [],
   "source": [
    "start_time = time.time()\n",
    "clf = SVC(gamma=1, C=1)\n",
    "clf.fit(X_train,y_train)\n",
    "\n",
    "scores = cross_val_score(clf, X, y, cv=10, scoring='accuracy')\n",
    "print(scores)\n",
    "print(scores.mean())\n",
    "\n",
    "print(\"%s ms\" % ((time.time() - start_time)*1000))"
   ]
  },
  {
   "cell_type": "code",
   "execution_count": null,
   "metadata": {},
   "outputs": [],
   "source": []
  }
 ],
 "metadata": {
  "kernelspec": {
   "display_name": "Python 3",
   "language": "python",
   "name": "python3"
  },
  "language_info": {
   "codemirror_mode": {
    "name": "ipython",
    "version": 3
   },
   "file_extension": ".py",
   "mimetype": "text/x-python",
   "name": "python",
   "nbconvert_exporter": "python",
   "pygments_lexer": "ipython3",
   "version": "3.6.6"
  }
 },
 "nbformat": 4,
 "nbformat_minor": 2
}
