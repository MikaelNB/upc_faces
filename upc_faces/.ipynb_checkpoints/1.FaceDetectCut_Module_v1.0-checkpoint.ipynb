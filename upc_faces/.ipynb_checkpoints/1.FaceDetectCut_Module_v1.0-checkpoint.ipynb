{
 "cells": [
  {
   "cell_type": "code",
   "execution_count": 1,
   "metadata": {},
   "outputs": [],
   "source": [
    "from __future__ import print_function\n",
    "from ipywidgets import interact, interactive, fixed, interact_manual\n",
    "from IPython.display import display\n",
    "\n",
    "import numpy as np\n",
    "import ipywidgets as widgets\n",
    "import os, shutil\n",
    "import cv2\n",
    "import sys\n"
   ]
  },
  {
   "cell_type": "code",
   "execution_count": 2,
   "metadata": {},
   "outputs": [],
   "source": [
    "# input_path = './UPCfaces/'\n",
    "# #from skimage.measure import structural_similarity as ssim\n",
    "# def CaptureBAK():\n",
    "#     cascPath=\"haarcascade_frontalface_default.xml\"\n",
    "#     faceCascade=cv2.CascadeClassifier(cascPath)\n",
    "#     frame_it=-1\n",
    "\n",
    "#     video=cv2.VideoCapture('/dev/video0')\n",
    "\n",
    "#     #images_pf=[]\n",
    "#     k = 0\n",
    "#     face_it=-1\n",
    "#     while k < c:\n",
    "#         ret, frame=video.read()\n",
    "#         if ret:\n",
    "#             frame_it=frame_it+1\n",
    "#             #frame_images=[]\n",
    "#             gray=cv2.cvtColor(frame, cv2.COLOR_RGB2GRAY)\n",
    "#             faces=faceCascade.detectMultiScale(gray,scaleFactor=1.1,minNeighbors=5,minSize=(140,140),flags=cv2.CASCADE_SCALE_IMAGE)\n",
    "#             for (x,y,w,h) in faces:\n",
    "#                 face_it=face_it+1\n",
    "#                 crop=frame[y:y+h,x:x+w]\n",
    "#                 #frame_images.append(crop)\n",
    "#                 cv2.imwrite(new_dir + 'fr{}_f{}.jpg'.format(frame_it,face_it),crop)\n",
    "#                 cv2.rectangle(frame,(x,y),(x+w,y+h),(0,255,0),2)\n",
    "#                 k += 1  \n",
    "#             #if len(images_pf)==0:\n",
    "#             #    images_pf.append(frame_images)\n",
    "#             #else:\n",
    "#             #    for img in images_pf[1]:\n",
    "#             #        for img2 in images_pf[0]:\n",
    "\n",
    "#             cv2.imshow('Video',frame)\n",
    "#             if(cv2.waitKey(1) & 0xFF==ord('q')):\n",
    "#                 break\n",
    "\n",
    "#     video.release()\n",
    "#     cv2.destroyAllWindows()"
   ]
  },
  {
   "cell_type": "code",
   "execution_count": 29,
   "metadata": {},
   "outputs": [],
   "source": [
    "input_path = './UPCfaces/'\n",
    "#from skimage.measure import structural_similarity as ssim\n",
    "def Capture():\n",
    "    cascPath=\"haarcascade_frontalface_default.xml\"\n",
    "    faceCascade=cv2.CascadeClassifier(cascPath)\n",
    "    frame_it=-1\n",
    "    wait = 20 #espera en frames\n",
    "    video=cv2.VideoCapture('/dev/video0')\n",
    "    margin = 25\n",
    "    #images_pf=[]\n",
    "    k = 0\n",
    "    face_it=-1\n",
    "    ret, frame=video.read()\n",
    "\n",
    "    #mask = np.zeros_like(frame)\n",
    "    #print(frame.shape)\n",
    "    mask = np.zeros(frame.shape[:],dtype=np.uint8)\n",
    "    #mask.fill(255)\n",
    "    \n",
    "    x0 = 0\n",
    "    y0 = 0\n",
    "    accum = 0\n",
    "    index = []\n",
    "    while k < c:\n",
    "        ret, frame=video.read()\n",
    "\n",
    "        if ret:\n",
    "\n",
    "            frame_it=frame_it+1\n",
    "            #frame_images=[]\n",
    "            gray=cv2.cvtColor(frame, cv2.COLOR_RGB2GRAY)\n",
    "            faces=faceCascade.detectMultiScale(gray,scaleFactor=1.1,minNeighbors=5,minSize=(140,140),flags=cv2.CASCADE_SCALE_IMAGE)\n",
    "            #mask = np.zeros_like(frame)\n",
    "            mask = np.zeros(frame.shape[:],dtype=np.uint8)\n",
    "            #mask.fill(0)\n",
    "            for (x,y,w,h) in faces:\n",
    "                if (x0 == 0 and y0 == 0) or abs(x-x0)+abs(y-y0) < margin:\n",
    "                    face_it=face_it+1\n",
    "                    #print(abs(x-x0)+abs(y-y0))\n",
    "\n",
    "                    mask=cv2.ellipse(mask,(x+w//2,y+int(h/2)),(int(w/3),int(h/2)),0,0,360,(255,255,255),-1)\n",
    "                    mask=np.bitwise_and(frame,mask)\n",
    "                    #mask[np.where((mask == [0,0,0]).all(axis = 2))] = [127,127,127]\n",
    "                    crop=mask[y:y+h,x:x+w]\n",
    "                    cv2.imwrite(new_dir + 'fr{}_f{}.jpg'.format(frame_it,face_it),crop)\n",
    "                    k += 1\n",
    "\n",
    "            for (x,y,w,h) in faces:\n",
    "                if (x0 == 0 and y0 == 0) or abs(x-x0)+abs(y-y0) < margin:\n",
    "                    cv2.rectangle(mask,(x,y),(x+w,y+h),(0,255,0),2)\n",
    "                    x0 = x\n",
    "                    y0 = y\n",
    "                    accum = 0\n",
    "                elif abs(x-x0)+abs(y-y0) >= margin:\n",
    "                    accum += 1\n",
    "\n",
    "            if accum > wait:\n",
    "                accum = 0\n",
    "                x0 = y0 = 0\n",
    "\n",
    "            #if len(images_pf)==0:\n",
    "            #    images_pf.append(frame_images)\n",
    "            #else:q\n",
    "            #    for img in images_pf[1]:\n",
    "            #        for img2 in images_pf[0]:\n",
    "            #frame = np.bitwise_and(frame,mask)\n",
    "            cv2.imshow('Video',mask)\n",
    "            if len(faces) > 0:\n",
    "                print('Num Faces: {0}, ({1}, {2})'.format(len(faces), int(x0), int(y0)),end='\\r')\n",
    "            if(cv2.waitKey(1) & 0xFF==ord('q')):\n",
    "                break\n",
    "\n",
    "    video.release()\n",
    "    cv2.destroyAllWindows()"
   ]
  },
  {
   "cell_type": "code",
   "execution_count": 4,
   "metadata": {
    "scrolled": false
   },
   "outputs": [
    {
     "name": "stdout",
     "output_type": "stream",
     "text": [
      "Directory UPCfaces already exists\n",
      "Cantidad de Fotogramas:\n"
     ]
    },
    {
     "data": {
      "application/vnd.jupyter.widget-view+json": {
       "model_id": "20d35506183d46f4936afbe2bc16d560",
       "version_major": 2,
       "version_minor": 0
      },
      "text/plain": [
       "interactive(children=(IntSlider(value=10, description='x', min=10, step=10), Output()), _dom_classes=('widget-…"
      ]
     },
     "metadata": {},
     "output_type": "display_data"
    }
   ],
   "source": [
    "dirName = 'UPCfaces' \n",
    "try:\n",
    "    # Create target Directory\n",
    "    os.mkdir(dirName)\n",
    "    print(\"Directory\" , dirName ,  \"Created \")\n",
    "except FileExistsError:\n",
    "    print(\"Directory\" , dirName ,  \"already exists\")\n",
    "\n",
    "input_path = './UPCfaces/'\n",
    "\n",
    "c = 0\n",
    "def f(x):\n",
    "    return x\n",
    "\n",
    "w = interactive(f, x=widgets.IntSlider(min=10,max=100,step=10,value=10))\n",
    "print('Cantidad de Fotogramas:')\n",
    "display(w)"
   ]
  },
  {
   "cell_type": "code",
   "execution_count": 5,
   "metadata": {},
   "outputs": [
    {
     "name": "stdout",
     "output_type": "stream",
     "text": [
      "\n",
      "Lista de carpetas:\n",
      "\t ['faces_3', 'faces_2', 'faces_6', 'faces_5', 'faces_1', 'faces_4']\n",
      "\n",
      "Identificador de Carpeta:\n"
     ]
    },
    {
     "data": {
      "application/vnd.jupyter.widget-view+json": {
       "model_id": "f84c6f77a6bc4dadbde15a2a6ca2340e",
       "version_major": 2,
       "version_minor": 0
      },
      "text/plain": [
       "Checkbox(value=False, description='Sobreescribir')"
      ]
     },
     "metadata": {},
     "output_type": "display_data"
    },
    {
     "data": {
      "application/vnd.jupyter.widget-view+json": {
       "model_id": "3fcb1fef90c54e6b8a3951450d36dbcd",
       "version_major": 2,
       "version_minor": 0
      },
      "text/plain": [
       "interactive(children=(IntSlider(value=1, description='x', max=6, min=1), Output()), _dom_classes=('widget-inte…"
      ]
     },
     "metadata": {},
     "output_type": "display_data"
    }
   ],
   "source": [
    "dirs = os.listdir(input_path)\n",
    "ow = widgets.Checkbox(\n",
    "        value=False,\n",
    "        description='Sobreescribir',\n",
    "        disabled=False\n",
    "    )\n",
    "\n",
    "if len(dirs)>0:\n",
    "    print('\\nLista de carpetas:')\n",
    "    print('\\t',dirs)\n",
    "    d = interactive(f, x=widgets.IntSlider(min=1,max=len(dirs),step=1,value=1))\n",
    "\n",
    "\n",
    "    print('\\nIdentificador de Carpeta:')\n",
    "    display(ow)    \n",
    "    display(d)"
   ]
  },
  {
   "cell_type": "code",
   "execution_count": 30,
   "metadata": {
    "scrolled": true
   },
   "outputs": [
    {
     "name": "stdout",
     "output_type": "stream",
     "text": [
      "./UPCfaces/faces_6/\n",
      "Cantidad de Fotogramas: 50\n",
      "Sobreescribir: True\n",
      "Num Faces: 1, (265, 156)\r"
     ]
    }
   ],
   "source": [
    "if ow.value:\n",
    "    new_dir = input_path + 'faces_' + str(d.result) + '/'\n",
    "    for the_file in os.listdir(new_dir):\n",
    "        file_path = os.path.join(new_dir, the_file)\n",
    "        try:\n",
    "            if os.path.isfile(file_path):\n",
    "                os.unlink(file_path)\n",
    "            #elif os.path.isdir(file_path): shutil.rmtree(file_path)\n",
    "        except Exception as e:\n",
    "            print(e)\n",
    "else:\n",
    "    dirs = os.listdir(input_path)\n",
    "    new_dir = input_path + 'faces_' + str(len(dirs)+1) + '/'\n",
    "    try:\n",
    "        # Create target Directory\n",
    "        os.mkdir(new_dir)\n",
    "        print(\"Directory\" , new_dir ,  \"Created \")\n",
    "    except FileExistsError:\n",
    "        print(\"Directory\" , new_dir ,  \"already exists\")\n",
    "\n",
    "c = w.result\n",
    "\n",
    "\n",
    "print(new_dir)\n",
    "print('Cantidad de Fotogramas:', c)\n",
    "print('Sobreescribir:',ow.value)\n",
    "\n",
    "Capture()"
   ]
  },
  {
   "cell_type": "code",
   "execution_count": null,
   "metadata": {},
   "outputs": [],
   "source": []
  }
 ],
 "metadata": {
  "kernelspec": {
   "display_name": "Python 3",
   "language": "python",
   "name": "python3"
  },
  "language_info": {
   "codemirror_mode": {
    "name": "ipython",
    "version": 3
   },
   "file_extension": ".py",
   "mimetype": "text/x-python",
   "name": "python",
   "nbconvert_exporter": "python",
   "pygments_lexer": "ipython3",
   "version": "3.6.6"
  }
 },
 "nbformat": 4,
 "nbformat_minor": 2
}
