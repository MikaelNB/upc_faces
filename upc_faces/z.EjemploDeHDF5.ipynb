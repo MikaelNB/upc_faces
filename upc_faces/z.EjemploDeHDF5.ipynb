{
 "cells": [
  {
   "cell_type": "code",
   "execution_count": 13,
   "metadata": {},
   "outputs": [],
   "source": [
    "import sys\n",
    "import os\n",
    "from sklearn.decomposition import PCA\n",
    "import h5py\n",
    "import numpy as np\n",
    "sys.path.append(\"..\")  # Adds higher directory to python modules path.\n",
    "from img_to_vec import Img2Vec\n",
    "from PIL import Image\n",
    "from sklearn.metrics.pairwise import cosine_similarity\n",
    "from sklearn.preprocessing import LabelEncoder\n"
   ]
  },
  {
   "cell_type": "code",
   "execution_count": 14,
   "metadata": {},
   "outputs": [
    {
     "name": "stdout",
     "output_type": "stream",
     "text": [
      "['frame_images_DB', 'sources', 'headpose_DB', 'meta_data', 'aligned_images_DB', 'images.txt', 'descriptors_DB']\n"
     ]
    },
    {
     "name": "stderr",
     "output_type": "stream",
     "text": [
      "/home/mikaelnb/.local/lib/python3.6/site-packages/torchvision/transforms/transforms.py:188: UserWarning: The use of the transforms.Scale transform is deprecated, please use transforms.Resize instead.\n",
      "  \"please use transforms.Resize instead.\")\n"
     ]
    }
   ],
   "source": [
    "input_path = '/home/mikaelnb/Project/notebooks/YouTubeFacesDB/data'\n",
    "\n",
    "img2vec = Img2Vec(model='resnet-152')\n",
    "\n",
    "print(os.listdir(input_path))"
   ]
  },
  {
   "cell_type": "code",
   "execution_count": 15,
   "metadata": {},
   "outputs": [
    {
     "name": "stdout",
     "output_type": "stream",
     "text": [
      "['Aaron_Eckhart', 'Aaron_Guiel'] {0: 'Aaron_Eckhart', 1: 'Aaron_Guiel'}\n"
     ]
    }
   ],
   "source": [
    "aligned_folder = '/aligned_images_DB/'\n",
    "new_input_path = input_path + aligned_folder\n",
    "unique_labels = sorted(os.listdir(new_input_path), key=lambda s: s.lower())[:2]\n",
    "label_id = {}\n",
    "for i, label in enumerate(unique_labels):\n",
    "    label_id[i] = label\n",
    "print(unique_labels, label_id)"
   ]
  },
  {
   "cell_type": "code",
   "execution_count": 16,
   "metadata": {},
   "outputs": [
    {
     "name": "stdout",
     "output_type": "stream",
     "text": [
      "Aaron_Eckhart\n",
      "Aaron_Guiel\n"
     ]
    }
   ],
   "source": [
    "for i in label_id:\n",
    "    print(label_id[i])"
   ]
  },
  {
   "cell_type": "code",
   "execution_count": 17,
   "metadata": {},
   "outputs": [
    {
     "name": "stdout",
     "output_type": "stream",
     "text": [
      "2\n",
      "[[], []]\n"
     ]
    }
   ],
   "source": [
    "print(len(label_id))\n",
    "pics = [None]*len(label_id)\n",
    "for index in label_id:\n",
    "    pics[int(index)]=[]\n",
    "print(pics)\n"
   ]
  },
  {
   "cell_type": "code",
   "execution_count": 18,
   "metadata": {
    "scrolled": true
   },
   "outputs": [
    {
     "name": "stdout",
     "output_type": "stream",
     "text": [
      "0\n",
      "False\n",
      "False\n",
      "Aaron_Eckhart 1\n",
      "Aaron_Eckhart 2\n",
      "Aaron_Eckhart 3\n",
      "Aaron_Eckhart 4\n",
      "Aaron_Eckhart 5\n",
      "True\n",
      "True\n",
      "1\n",
      "False\n",
      "False\n",
      "Aaron_Guiel 1\n",
      "Aaron_Guiel 2\n",
      "Aaron_Guiel 3\n",
      "Aaron_Guiel 4\n",
      "Aaron_Guiel 5\n"
     ]
    }
   ],
   "source": [
    "labels = []\n",
    "features = []\n",
    "vec = []\n",
    "\n",
    "prev_index=-1\n",
    "\n",
    "for index in label_id:    \n",
    "    print(index)\n",
    "    for root, dirs, files in os.walk(new_input_path + label_id[index]):\n",
    "        print(prev_index == index)\n",
    "        if prev_index == index:\n",
    "            continue\n",
    "        \n",
    "        for i, name in enumerate(files):\n",
    "            if i < 5 and name.endswith((\".jpg\")):\n",
    "                img = Image.open(os.path.join(os.fsdecode(root), name))\n",
    "                #print(os.path.join(os.fsdecode(root), name))\n",
    "                vec = img2vec.get_vec(img)\n",
    "\n",
    "                labels.append(label_id[index])\n",
    "                features.append(vec)\n",
    "            elif i >= 5:\n",
    "                continue\n",
    "            print(label_id[index], i+1)\n",
    "        if dirs == []:\n",
    "            prev_index = index"
   ]
  },
  {
   "cell_type": "code",
   "execution_count": 21,
   "metadata": {},
   "outputs": [
    {
     "name": "stdout",
     "output_type": "stream",
     "text": [
      "labels: 10\n",
      "(2048, 10)\n",
      "(10,)\n"
     ]
    }
   ],
   "source": [
    "#(al parecer transpose ya realiza vstack)\n",
    "#features=np.vstack(features)\n",
    "features=np.transpose(features)\n",
    "\n",
    "print('labels:',len(labels))\n",
    "print(features.shape)\n",
    "print(features[0].shape)\n"
   ]
  },
  {
   "cell_type": "code",
   "execution_count": 68,
   "metadata": {},
   "outputs": [
    {
     "name": "stdout",
     "output_type": "stream",
     "text": [
      "labels: 50\n",
      "(2048, 50)\n"
     ]
    }
   ],
   "source": [
    "print('labels:',len(labels))\n",
    "print(features.shape)"
   ]
  },
  {
   "cell_type": "code",
   "execution_count": 69,
   "metadata": {},
   "outputs": [],
   "source": [
    "with h5py.File(\"data.hdf5\", \"w\") as f:\n",
    "    dset = f.create_dataset(\"dataset_1\", data=np.array(features))"
   ]
  },
  {
   "cell_type": "code",
   "execution_count": 70,
   "metadata": {},
   "outputs": [],
   "source": [
    "le = LabelEncoder()\n",
    "target = le.fit_transform(labels)\n",
    "with h5py.File(\"labels.hdf5\", \"w\") as f:\n",
    "    dset = f.create_dataset(\"dataset_1\", data=np.array(target))"
   ]
  },
  {
   "cell_type": "code",
   "execution_count": null,
   "metadata": {},
   "outputs": [],
   "source": []
  }
 ],
 "metadata": {
  "kernelspec": {
   "display_name": "Python 3",
   "language": "python",
   "name": "python3"
  },
  "language_info": {
   "codemirror_mode": {
    "name": "ipython",
    "version": 3
   },
   "file_extension": ".py",
   "mimetype": "text/x-python",
   "name": "python",
   "nbconvert_exporter": "python",
   "pygments_lexer": "ipython3",
   "version": "3.6.6"
  }
 },
 "nbformat": 4,
 "nbformat_minor": 2
}
